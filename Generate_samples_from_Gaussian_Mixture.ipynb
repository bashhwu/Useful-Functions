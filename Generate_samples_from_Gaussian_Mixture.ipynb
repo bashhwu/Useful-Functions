{
 "cells": [
  {
   "cell_type": "code",
   "execution_count": 1,
   "metadata": {},
   "outputs": [],
   "source": [
    "import tensorflow as tf\n",
    "import numpy as np\n",
    "import matplotlib.pyplot as plt\n"
   ]
  },
  {
   "cell_type": "code",
   "execution_count": 10,
   "metadata": {
    "scrolled": true
   },
   "outputs": [],
   "source": [
    "mu1, mu2=-5. , 5.\n",
    "sigma1, sigma2= 1., 3. \n",
    "N=1000\n",
    "\n",
    "p=0.5\n",
    "\n",
    "dist1=tf.distributions.Normal(loc=mu1, scale=sigma1)\n",
    "dist2=tf.distributions.Normal(loc=mu2, scale=sigma2)\n",
    "\n",
    "x=tf.constant(np.linspace(-25.0,25.0,20000), dtype=tf.float32)\n",
    "mix_pdf=p*dist1.prob(x)+(1-p)*dist2.prob(x)\n"
   ]
  },
  {
   "cell_type": "code",
   "execution_count": 3,
   "metadata": {},
   "outputs": [
    {
     "data": {
      "text/plain": [
       "[<matplotlib.lines.Line2D at 0x7fbc40193a20>]"
      ]
     },
     "execution_count": 3,
     "metadata": {},
     "output_type": "execute_result"
    },
    {
     "data": {
      "image/png": "[encoded data removed]",
      "text/plain": [
       "<matplotlib.figure.Figure at 0x7fbc43a400f0>"
      ]
     },
     "metadata": {},
     "output_type": "display_data"
    }
   ],
   "source": [
    "# plot pdf\n",
    "sess=tf.Session()\n",
    "init=tf.global_variables_initializer()\n",
    "sess.run(init)\n",
    "\n",
    "plt.plot(sess.run(x), sess.run(mix_pdf))\n"
   ]
  },
  {
   "cell_type": "code",
   "execution_count": 4,
   "metadata": {},
   "outputs": [
    {
     "data": {
      "image/png": "[encoded data removed]",
      "text/plain": [
       "<matplotlib.figure.Figure at 0x7fbc401410b8>"
      ]
     },
     "metadata": {},
     "output_type": "display_data"
    }
   ],
   "source": [
    "# Sampling Method 1  (expensive)\n",
    "u=tf.random_uniform([N],minval=0.,maxval=1.)\n",
    "samples1=dist1.sample([N])\n",
    "samples2=dist2.sample([N])\n",
    "\n",
    "def f(samples,i):\n",
    "    return samples[i]\n",
    "\n",
    "samples=[]\n",
    "for i in range(N):\n",
    "    samples.append(tf.cond(tf.less(u[i],p), lambda: f(samples1,i), lambda: f(samples2,i)))\n",
    "plt.hist(sess.run(samples), bins='auto')\n",
    "plt.show()"
   ]
  },
  {
   "cell_type": "code",
   "execution_count": 5,
   "metadata": {},
   "outputs": [
    {
     "data": {
      "image/png": "[encoded data removed]",
      "text/plain": [
       "<matplotlib.figure.Figure at 0x7fbc0c752e10>"
      ]
     },
     "metadata": {},
     "output_type": "display_data"
    }
   ],
   "source": [
    "# Sampling method 2 (inexpensive)\n",
    "N=1000\n",
    "u=tf.random_uniform([N],minval=0.,maxval=1.)\n",
    "samples1=dist1.sample([N])\n",
    "samples2=dist2.sample([N])\n",
    "\n",
    "d=tf.less(u,p) # logic expression\n",
    "mask1=tf.cast(d, tf.float32) # mask for the true statement\n",
    "mask2=tf.cast(tf.logical_not(d), tf.float32)  # mask for the false statement \n",
    "samples1=samples1*mask1\n",
    "samples2=samples2*mask2\n",
    "samples=samples1+samples2\n",
    "\n",
    "\n",
    "plt.hist(sess.run(samples), bins='auto')\n",
    "plt.show()"
   ]
  },
  {
   "cell_type": "code",
   "execution_count": 6,
   "metadata": {},
   "outputs": [
    {
     "name": "stdout",
     "output_type": "stream",
     "text": [
      "0.508\n"
     ]
    }
   ],
   "source": [
    "num=tf.count_nonzero(mask1)\n",
    "print(sess.run(num/N))"
   ]
  },
  {
   "cell_type": "code",
   "execution_count": 36,
   "metadata": {},
   "outputs": [
    {
     "name": "stdout",
     "output_type": "stream",
     "text": [
      "[[ 0.42157185  0.00151932]\n",
      " [ 0.82643545  0.12162745]]\n"
     ]
    }
   ],
   "source": [
    "shape=[2,2]\n",
    "u=tf.random_uniform(shape,minval=0.,maxval=1., dtype= tf.float32)\n",
    "print(sess.run(u))"
   ]
  },
  {
   "cell_type": "code",
   "execution_count": 46,
   "metadata": {},
   "outputs": [
    {
     "name": "stdout",
     "output_type": "stream",
     "text": [
      "0.66846\n"
     ]
    }
   ],
   "source": [
    "rho=tf.constant(-0.05)\n",
    "s=tf.nn.softplus(rho)\n",
    "print(sess.run(s))"
   ]
  },
  {
   "cell_type": "code",
   "execution_count": null,
   "metadata": {},
   "outputs": [],
   "source": []
  }
 ],
 "metadata": {
  "kernelspec": {
   "display_name": "Python 3",
   "language": "python",
   "name": "python3"
  },
  "language_info": {
   "codemirror_mode": {
    "name": "ipython",
    "version": 3
   },
   "file_extension": ".py",
   "mimetype": "text/x-python",
   "name": "python",
   "nbconvert_exporter": "python",
   "pygments_lexer": "ipython3",
   "version": "3.6.4"
  }
 },
 "nbformat": 4,
 "nbformat_minor": 2
}
